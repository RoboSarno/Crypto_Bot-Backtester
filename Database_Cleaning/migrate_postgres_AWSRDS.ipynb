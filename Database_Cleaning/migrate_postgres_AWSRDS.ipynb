{
 "cells": [
  {
   "cell_type": "code",
   "execution_count": 3,
   "metadata": {},
   "outputs": [],
   "source": [
    "# environment variables hidden"
   ]
  },
  {
   "cell_type": "code",
   "execution_count": 4,
   "metadata": {},
   "outputs": [],
   "source": [
    "import pandas as pd\n",
    "import numpy as np\n",
    "from sqlalchemy import create_engine\n",
    "import matplotlib.pyplot as plt"
   ]
  },
  {
   "cell_type": "code",
   "execution_count": 12,
   "metadata": {},
   "outputs": [],
   "source": [
    "def insert_into_db(df, table_name): \n",
    "    myeng = create_engine(f\"postgresql://{AWS_DB_USERNAME}:{AWS_DB_PWD}@{AWS_DB_HOSTNAME}:{AWS_DB_PORT_ID}/{AWS_DB_DATABASE}\")\n",
    "    dbConnection = myeng.connect()\n",
    "    df.to_sql(con=myeng, name=table_name,  if_exists='replace', index=True)\n",
    "    dbConnection.close()\n",
    "    print('worked')\n",
    "\n",
    "\n",
    "def select_df_info(table_name):\n",
    "    myeng = create_engine(\"postgresql://%s:%s@%s:%s/stock_crypto\" % (DB_USERNAME, DB_PWD, DB_HOSTNAME, DB_PORT_ID))\n",
    "    dbConnection = myeng.connect()\n",
    "    query = f'SELECT * FROM {table_name}'\n",
    "    # get raw historical data table as pandas df\n",
    "    exsisting_df = pd.read_sql(query, dbConnection)\n",
    "    dbConnection.close()\n",
    "    return exsisting_df"
   ]
  },
  {
   "cell_type": "code",
   "execution_count": 13,
   "metadata": {},
   "outputs": [
    {
     "name": "stdout",
     "output_type": "stream",
     "text": [
      "worked\n",
      "worked\n",
      "worked\n",
      "worked\n",
      "worked\n"
     ]
    }
   ],
   "source": [
    "# loop through all DB tables\n",
    "for i in db_tables:\n",
    "    # select table\n",
    "    temp = select_df_info(i)\n",
    "    # insert table to AWS DB\n",
    "    insert_into_db(temp, i)"
   ]
  }
 ],
 "metadata": {
  "interpreter": {
   "hash": "552dee5d814a9f7699ceb77f903d120da6a481b16756a67d762e7d8f13717784"
  },
  "kernelspec": {
   "display_name": "Python 3.9.12 ('Bot_env')",
   "language": "python",
   "name": "python3"
  },
  "language_info": {
   "codemirror_mode": {
    "name": "ipython",
    "version": 3
   },
   "file_extension": ".py",
   "mimetype": "text/x-python",
   "name": "python",
   "nbconvert_exporter": "python",
   "pygments_lexer": "ipython3",
   "version": "3.9.12"
  },
  "orig_nbformat": 4
 },
 "nbformat": 4,
 "nbformat_minor": 2
}
